{
 "cells": [
  {
   "cell_type": "markdown",
   "metadata": {},
   "source": [
    "# LINQ\n",
    "**LINQ is Language Integrated Query** Linq will be helpful to select data, arrange data, or filter data from databases or collections. It introduced on 2008 with .NET Framework 3.0, for procedural purpose, after this, do that, and then this, etc.\n",
    "\n",
    "In linq, you have choice to call it using **Query Syntax** or **Method Syntax** in C#.\n",
    "\n",
    "Here is example for the **Query Syntax** format"
   ]
  },
  {
   "cell_type": "code",
   "execution_count": 5,
   "metadata": {
    "dotnet_interactive": {
     "language": "csharp"
    },
    "polyglot_notebook": {
     "kernelName": "csharp"
    },
    "vscode": {
     "languageId": "polyglot-notebook"
    }
   },
   "outputs": [
    {
     "name": "stdout",
     "output_type": "stream",
     "text": [
      "2\n",
      "4\n",
      "6\n",
      "8\n",
      "10\n"
     ]
    }
   ],
   "source": [
    "// int[] numbers = { 1, 2, 3, 4, 5, 6, 7, 8, 9, 10 };\n",
    "\n",
    "//         var squaredNumbers = from num in numbers\n",
    "//                              select num * num;\n",
    "\n",
    "//         foreach (var num in squaredNumbers)\n",
    "//         {\n",
    "//             Console.WriteLine(num);\n",
    "//         }\n",
    "\n",
    " List<int> numbers = new List<int> { 1, 2, 3, 4, 5, 6, 7, 8, 9, 10 };\n",
    "\n",
    "        var evenNumbers = from num in numbers\n",
    "                          where num % 2 == 0\n",
    "                          select num;\n",
    "\n",
    "        foreach (var num in evenNumbers)\n",
    "        {\n",
    "            Console.WriteLine(num);\n",
    "        }"
   ]
  },
  {
   "cell_type": "markdown",
   "metadata": {},
   "source": [
    "Here is example for the **Method Syntax** method"
   ]
  },
  {
   "cell_type": "code",
   "execution_count": 11,
   "metadata": {
    "dotnet_interactive": {
     "language": "csharp"
    },
    "polyglot_notebook": {
     "kernelName": "csharp"
    },
    "vscode": {
     "languageId": "polyglot-notebook"
    }
   },
   "outputs": [
    {
     "name": "stdout",
     "output_type": "stream",
     "text": [
      "Alice - 20\n",
      "Christian - 21\n"
     ]
    }
   ],
   "source": [
    "    List<Student> students = new List<Student>\n",
    "        {\n",
    "            new Student { Name = \"Alice\", Age = 20 },\n",
    "            new Student { Name = \"Bob\", Age = 22 },\n",
    "            new Student { Name = \"Christian\", Age = 21 }\n",
    "        };\n",
    "\n",
    "        var youngStudents = students.Where(student => student.Age < 22);\n",
    "\n",
    "        foreach (var student in youngStudents)\n",
    "        {\n",
    "            Console.WriteLine($\"{student.Name} - {student.Age}\");\n",
    "        }"
   ]
  },
  {
   "cell_type": "markdown",
   "metadata": {},
   "source": [
    "Or even the **Hybrid type**"
   ]
  },
  {
   "cell_type": "code",
   "execution_count": 13,
   "metadata": {
    "dotnet_interactive": {
     "language": "csharp"
    },
    "polyglot_notebook": {
     "kernelName": "csharp"
    },
    "vscode": {
     "languageId": "polyglot-notebook"
    }
   },
   "outputs": [
    {
     "ename": "Error",
     "evalue": "(6,2): error CS1002: ; expected",
     "output_type": "error",
     "traceback": [
      "(6,2): error CS1002: ; expected"
     ]
    }
   ],
   "source": [
    "List<Student> students = new List<Student>\n",
    "{\n",
    "    new Student { Name = \"DOI\", Age = 23 },\n",
    "    new Student { Name = \"MANTAN\", Age = 23},\n",
    "    new Student {Name = \"KEN\", Age }\n",
    "}"
   ]
  },
  {
   "cell_type": "markdown",
   "metadata": {},
   "source": []
  },
  {
   "cell_type": "code",
   "execution_count": 19,
   "metadata": {
    "dotnet_interactive": {
     "language": "csharp"
    },
    "polyglot_notebook": {
     "kernelName": "csharp"
    },
    "vscode": {
     "languageId": "polyglot-notebook"
    }
   },
   "outputs": [
    {
     "ename": "Error",
     "evalue": "(11,81): error CS1061: 'Student' does not contain a definition for 'Gender' and no accessible extension method 'Gender' accepting a first argument of type 'Student' could be found (are you missing a using directive or an assembly reference?)\r\n(3,53): error CS0117: 'Student' does not contain a definition for 'Gender'\r\n(4,51): error CS0117: 'Student' does not contain a definition for 'Gender'\r\n(5,55): error CS0117: 'Student' does not contain a definition for 'Gender'\r\n(6,53): error CS0117: 'Student' does not contain a definition for 'Gender'\r\n(7,51): error CS0117: 'Student' does not contain a definition for 'Gender'",
     "output_type": "error",
     "traceback": [
      "(11,81): error CS1061: 'Student' does not contain a definition for 'Gender' and no accessible extension method 'Gender' accepting a first argument of type 'Student' could be found (are you missing a using directive or an assembly reference?)\r\n",
      "(3,53): error CS0117: 'Student' does not contain a definition for 'Gender'\r\n",
      "(4,51): error CS0117: 'Student' does not contain a definition for 'Gender'\r\n",
      "(5,55): error CS0117: 'Student' does not contain a definition for 'Gender'\r\n",
      "(6,53): error CS0117: 'Student' does not contain a definition for 'Gender'\r\n",
      "(7,51): error CS0117: 'Student' does not contain a definition for 'Gender'"
     ]
    }
   ],
   "source": [
    "List<Student> students = new List<Student>\n",
    "        {\n",
    "            new Student { Name = \"Alice\", Age = 20, Gender = '1' },\n",
    "            new Student { Name = \"Bob\", Age = 22, Gender = '2' },\n",
    "            new Student { Name = \"Charlie\", Age = 21, Gender = '2' },\n",
    "            new Student { Name = \"David\", Age = 20, Gender = '2' },\n",
    "            new Student { Name = \"Eve\", Age = 22, Gender = '1' }\n",
    "        };\n",
    "\n",
    "        var groupedByAgeAndGender = from student in students\n",
    "                                    group student by new { student.Age, student.Gender };\n",
    "\n",
    "        foreach (var group in groupedByAgeAndGender)\n",
    "        {\n",
    "            Console.WriteLine($\"Students with age {group.Key.Age} and gender {group.Key.Gender}:\");\n",
    "            foreach (var student in group)\n",
    "            {\n",
    "                Console.WriteLine($\"  {student.Name}\");\n",
    "            }\n",
    "        }"
   ]
  }
 ],
 "metadata": {
  "language_info": {
   "name": "python"
  },
  "orig_nbformat": 4
 },
 "nbformat": 4,
 "nbformat_minor": 2
}
